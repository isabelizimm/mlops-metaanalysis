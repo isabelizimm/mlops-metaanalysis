{
 "cells": [
  {
   "cell_type": "code",
   "execution_count": 1,
   "metadata": {},
   "outputs": [],
   "source": [
    "import pandas as pd\n",
    "from siuba import *\n",
    "from siuba.siu import call\n",
    "from plotnine import *\n",
    "import json\n",
    "import matplotlib.pyplot as pp"
   ]
  },
  {
   "cell_type": "code",
   "execution_count": 2,
   "metadata": {},
   "outputs": [],
   "source": [
    "# load all the data\n",
    "commits_raw = pd.read_pickle(\"../data/graphql/commits_total.pkl\")\n",
    "commits_df = pd.DataFrame()\n",
    "for repo in commits_raw:\n",
    "    commits_df = pd.concat([commits_df, pd.DataFrame(repo)])"
   ]
  },
  {
   "cell_type": "code",
   "execution_count": 3,
   "metadata": {},
   "outputs": [],
   "source": [
    "issues_total = pd.read_pickle(\"../data/graphql/issues_total.pkl\")\n",
    "issuespr_total = pd.read_pickle(\"../data/graphql/issuespr_total.pkl\")\n",
    "issues_df = pd.concat((pd.DataFrame(issues_total), pd.DataFrame(issuespr_total)))"
   ]
  },
  {
   "cell_type": "code",
   "execution_count": 4,
   "metadata": {},
   "outputs": [],
   "source": [
    "with open(\"../data/repos/topic_combined.json\", \"r\") as read_file:\n",
    "    raw = json.load(read_file)\n",
    "repo_df = pd.DataFrame(raw)"
   ]
  },
  {
   "cell_type": "code",
   "execution_count": 5,
   "metadata": {},
   "outputs": [],
   "source": [
    "star_pickle = pd.read_pickle(\"../data/graphql/stargazers_total.pkl\")\n",
    "star_df = pd.DataFrame(star_pickle)"
   ]
  },
  {
   "cell_type": "markdown",
   "metadata": {},
   "source": [
    "Scope: looking at just tools.\n",
    "\n",
    "How to prove if something is an OSS tool?\n",
    "\n",
    "- has an [OSI license](https://opensource.org/licenses)\n",
    "- has at least one open issue (probably not a strong criteria)\n",
    "- is public\n",
    "\n",
    "think of removing\n",
    "\n",
    "- lists such as \"awesome mlops\" esque - maybe their own cluster, as enablement for the community - split up into two types of analysis\n",
    "- school projects (will probably be at least partially removed with no license?)\n",
    "\n",
    "What other tags to collect?\n",
    "\n",
    "- mlops\n",
    "- model-management\n",
    "\n",
    "Other metrics to bring in?\n",
    "\n",
    "- contributors (strong player), stargazers community, issues/PRs\n",
    "- thinking of principles/rubric (all in one vs. specific)\n"
   ]
  },
  {
   "cell_type": "markdown",
   "metadata": {},
   "source": [
    "## Q1: How much are these projects growing?\n"
   ]
  },
  {
   "cell_type": "code",
   "execution_count": 6,
   "metadata": {},
   "outputs": [],
   "source": [
    "growth = (\n",
    "    commits_df\n",
    "    >> arrange(_.committer_date)\n",
    "    >> mutate(\n",
    "        n_1_commits=1,\n",
    "        cumsum_commits=_.groupby(\"repository_id\")[\"n_1_commits\"].transform(\n",
    "            pd.Series.cumsum\n",
    "        ),\n",
    "    )\n",
    "    >> ungroup()\n",
    ")\n"
   ]
  },
  {
   "cell_type": "code",
   "execution_count": 7,
   "metadata": {},
   "outputs": [
    {
     "data": {
      "text/html": [
       "<div>\n",
       "<style scoped>\n",
       "    .dataframe tbody tr th:only-of-type {\n",
       "        vertical-align: middle;\n",
       "    }\n",
       "\n",
       "    .dataframe tbody tr th {\n",
       "        vertical-align: top;\n",
       "    }\n",
       "\n",
       "    .dataframe thead th {\n",
       "        text-align: right;\n",
       "    }\n",
       "</style>\n",
       "<table border=\"1\" class=\"dataframe\">\n",
       "  <thead>\n",
       "    <tr style=\"text-align: right;\">\n",
       "      <th></th>\n",
       "      <th>sha</th>\n",
       "      <th>repository_id</th>\n",
       "      <th>author_email</th>\n",
       "      <th>committer_email</th>\n",
       "      <th>author_name</th>\n",
       "      <th>author_date</th>\n",
       "      <th>committer_name</th>\n",
       "      <th>committer_date</th>\n",
       "      <th>message</th>\n",
       "      <th>n_1_commits</th>\n",
       "      <th>cumsum_commits</th>\n",
       "      <th>committer_date_dt</th>\n",
       "    </tr>\n",
       "  </thead>\n",
       "  <tbody>\n",
       "    <tr>\n",
       "      <th>6095</th>\n",
       "      <td>3fa5994f589a6b73d1b435cada74f84ece7788f0</td>\n",
       "      <td>MDEwOlJlcG9zaXRvcnkxNDI0MTAzMzE=</td>\n",
       "      <td>jdowling@kth.se</td>\n",
       "      <td>jdowling@kth.se</td>\n",
       "      <td>Jim Dowling</td>\n",
       "      <td>2013-05-15T08:35:45+02:00</td>\n",
       "      <td>Jim Dowling</td>\n",
       "      <td>2013-05-15T08:35:45+02:00</td>\n",
       "      <td>Imported KTHFS Dashboard</td>\n",
       "      <td>1</td>\n",
       "      <td>1</td>\n",
       "      <td>2013-05-15 08:35:45+02:00</td>\n",
       "    </tr>\n",
       "    <tr>\n",
       "      <th>6094</th>\n",
       "      <td>41f8ffb66dc1a3a8eb60e4921dbad8cac55be4d1</td>\n",
       "      <td>MDEwOlJlcG9zaXRvcnkxNDI0MTAzMzE=</td>\n",
       "      <td>jdowling@kth.se</td>\n",
       "      <td>jdowling@kth.se</td>\n",
       "      <td>Jim Dowling</td>\n",
       "      <td>2013-05-15T08:42:00+02:00</td>\n",
       "      <td>Jim Dowling</td>\n",
       "      <td>2013-05-15T08:42:00+02:00</td>\n",
       "      <td>Removed script for creating jarmon symlink</td>\n",
       "      <td>1</td>\n",
       "      <td>2</td>\n",
       "      <td>2013-05-15 08:42:00+02:00</td>\n",
       "    </tr>\n",
       "    <tr>\n",
       "      <th>6093</th>\n",
       "      <td>51fa793432d0126f7c4d821fc4db685a84bef2bb</td>\n",
       "      <td>MDEwOlJlcG9zaXRvcnkxNDI0MTAzMzE=</td>\n",
       "      <td>afzali@kth.se</td>\n",
       "      <td>afzali@kth.se</td>\n",
       "      <td>Hamidreza Afzali</td>\n",
       "      <td>2013-05-21T16:45:21+02:00</td>\n",
       "      <td>Hamidreza Afzali</td>\n",
       "      <td>2013-05-21T16:45:21+02:00</td>\n",
       "      <td>Upgraded to a newer version copied from kthfs ...</td>\n",
       "      <td>1</td>\n",
       "      <td>3</td>\n",
       "      <td>2013-05-21 16:45:21+02:00</td>\n",
       "    </tr>\n",
       "    <tr>\n",
       "      <th>6092</th>\n",
       "      <td>9813c228a0aa6f73a50b21c66a03c34664df63fb</td>\n",
       "      <td>MDEwOlJlcG9zaXRvcnkxNDI0MTAzMzE=</td>\n",
       "      <td>jdowling@sics.se</td>\n",
       "      <td>jdowling@sics.se</td>\n",
       "      <td>Jim Dowling</td>\n",
       "      <td>2013-05-21T17:04:20+02:00</td>\n",
       "      <td>Jim Dowling</td>\n",
       "      <td>2013-05-21T17:04:20+02:00</td>\n",
       "      <td>Merge branch 'hamid_upgrade' of ghetto.sics.se...</td>\n",
       "      <td>1</td>\n",
       "      <td>4</td>\n",
       "      <td>2013-05-21 17:04:20+02:00</td>\n",
       "    </tr>\n",
       "    <tr>\n",
       "      <th>6091</th>\n",
       "      <td>ad3af55e5e33aea81294697273f6571089b6c4d3</td>\n",
       "      <td>MDEwOlJlcG9zaXRvcnkxNDI0MTAzMzE=</td>\n",
       "      <td>a.lorenteleal@gmail.com</td>\n",
       "      <td>a.lorenteleal@gmail.com</td>\n",
       "      <td>alorlea</td>\n",
       "      <td>2013-05-21T16:23:04+02:00</td>\n",
       "      <td>alorlea</td>\n",
       "      <td>2013-05-21T17:20:52+02:00</td>\n",
       "      <td>added the async api support</td>\n",
       "      <td>1</td>\n",
       "      <td>5</td>\n",
       "      <td>2013-05-21 17:20:52+02:00</td>\n",
       "    </tr>\n",
       "    <tr>\n",
       "      <th>...</th>\n",
       "      <td>...</td>\n",
       "      <td>...</td>\n",
       "      <td>...</td>\n",
       "      <td>...</td>\n",
       "      <td>...</td>\n",
       "      <td>...</td>\n",
       "      <td>...</td>\n",
       "      <td>...</td>\n",
       "      <td>...</td>\n",
       "      <td>...</td>\n",
       "      <td>...</td>\n",
       "      <td>...</td>\n",
       "    </tr>\n",
       "    <tr>\n",
       "      <th>4</th>\n",
       "      <td>50049920c9a6fa915d997be1aae15f942f89d4cc</td>\n",
       "      <td>MDEwOlJlcG9zaXRvcnkxNDI0MTAzMzE=</td>\n",
       "      <td>ormenisan.adrian@gmail.com</td>\n",
       "      <td>noreply@github.com</td>\n",
       "      <td>Alex Ormenisan</td>\n",
       "      <td>2023-01-19T16:05:29+02:00</td>\n",
       "      <td>GitHub</td>\n",
       "      <td>2023-01-19T16:05:29+02:00</td>\n",
       "      <td>[HWORKS-372] explicit provenance missing commu...</td>\n",
       "      <td>1</td>\n",
       "      <td>6092</td>\n",
       "      <td>2023-01-19 16:05:29+02:00</td>\n",
       "    </tr>\n",
       "    <tr>\n",
       "      <th>3</th>\n",
       "      <td>801f45bb8b62d954167f760aa00d266b1f1b9101</td>\n",
       "      <td>MDEwOlJlcG9zaXRvcnkxNDI0MTAzMzE=</td>\n",
       "      <td>55157590+DhananjayMukhedkar@users.noreply.gith...</td>\n",
       "      <td>noreply@github.com</td>\n",
       "      <td>Dhananjay Mukhedkar</td>\n",
       "      <td>2023-01-19T16:56:27+01:00</td>\n",
       "      <td>GitHub</td>\n",
       "      <td>2023-01-19T16:56:27+01:00</td>\n",
       "      <td>[FSTORE-313] fix null check for feature group...</td>\n",
       "      <td>1</td>\n",
       "      <td>6093</td>\n",
       "      <td>2023-01-19 16:56:27+01:00</td>\n",
       "    </tr>\n",
       "    <tr>\n",
       "      <th>2</th>\n",
       "      <td>8f291f3a58e07b60a8991b9ac9d870553f23106b</td>\n",
       "      <td>MDEwOlJlcG9zaXRvcnkxNDI0MTAzMzE=</td>\n",
       "      <td>robin.eric.andersson@gmail.com</td>\n",
       "      <td>noreply@github.com</td>\n",
       "      <td>Robin Andersson</td>\n",
       "      <td>2023-01-19T16:57:39+01:00</td>\n",
       "      <td>GitHub</td>\n",
       "      <td>2023-01-19T16:57:39+01:00</td>\n",
       "      <td>[FSTORE-388][APPEND] Move Agent role to correc...</td>\n",
       "      <td>1</td>\n",
       "      <td>6094</td>\n",
       "      <td>2023-01-19 16:57:39+01:00</td>\n",
       "    </tr>\n",
       "    <tr>\n",
       "      <th>1</th>\n",
       "      <td>2a55ea7bc77e6cbef538e10e63a3bebdd7c97bd8</td>\n",
       "      <td>MDEwOlJlcG9zaXRvcnkxNDI0MTAzMzE=</td>\n",
       "      <td>antonios@logicalclocks.com</td>\n",
       "      <td>noreply@github.com</td>\n",
       "      <td>Antonis Kouzoupis</td>\n",
       "      <td>2023-01-23T13:08:59+01:00</td>\n",
       "      <td>GitHub</td>\n",
       "      <td>2023-01-23T13:08:59+01:00</td>\n",
       "      <td>[HWORKS-380] Close PEMParser resource (#1288)</td>\n",
       "      <td>1</td>\n",
       "      <td>6095</td>\n",
       "      <td>2023-01-23 13:08:59+01:00</td>\n",
       "    </tr>\n",
       "    <tr>\n",
       "      <th>0</th>\n",
       "      <td>c0e6a69309a4f0a14f66dbb81d0ee54c0c3b7979</td>\n",
       "      <td>MDEwOlJlcG9zaXRvcnkxNDI0MTAzMzE=</td>\n",
       "      <td>8422705+moritzmeister@users.noreply.github.com</td>\n",
       "      <td>noreply@github.com</td>\n",
       "      <td>Moritz Meister</td>\n",
       "      <td>2023-01-24T14:11:10+01:00</td>\n",
       "      <td>GitHub</td>\n",
       "      <td>2023-01-24T14:11:10+01:00</td>\n",
       "      <td>[FSTORE-614] Auto Kafka Topic recreation needs...</td>\n",
       "      <td>1</td>\n",
       "      <td>6096</td>\n",
       "      <td>2023-01-24 14:11:10+01:00</td>\n",
       "    </tr>\n",
       "  </tbody>\n",
       "</table>\n",
       "<p>6096 rows × 12 columns</p>\n",
       "</div>"
      ],
      "text/plain": [
       "                                           sha  \\\n",
       "6095  3fa5994f589a6b73d1b435cada74f84ece7788f0   \n",
       "6094  41f8ffb66dc1a3a8eb60e4921dbad8cac55be4d1   \n",
       "6093  51fa793432d0126f7c4d821fc4db685a84bef2bb   \n",
       "6092  9813c228a0aa6f73a50b21c66a03c34664df63fb   \n",
       "6091  ad3af55e5e33aea81294697273f6571089b6c4d3   \n",
       "...                                        ...   \n",
       "4     50049920c9a6fa915d997be1aae15f942f89d4cc   \n",
       "3     801f45bb8b62d954167f760aa00d266b1f1b9101   \n",
       "2     8f291f3a58e07b60a8991b9ac9d870553f23106b   \n",
       "1     2a55ea7bc77e6cbef538e10e63a3bebdd7c97bd8   \n",
       "0     c0e6a69309a4f0a14f66dbb81d0ee54c0c3b7979   \n",
       "\n",
       "                         repository_id  \\\n",
       "6095  MDEwOlJlcG9zaXRvcnkxNDI0MTAzMzE=   \n",
       "6094  MDEwOlJlcG9zaXRvcnkxNDI0MTAzMzE=   \n",
       "6093  MDEwOlJlcG9zaXRvcnkxNDI0MTAzMzE=   \n",
       "6092  MDEwOlJlcG9zaXRvcnkxNDI0MTAzMzE=   \n",
       "6091  MDEwOlJlcG9zaXRvcnkxNDI0MTAzMzE=   \n",
       "...                                ...   \n",
       "4     MDEwOlJlcG9zaXRvcnkxNDI0MTAzMzE=   \n",
       "3     MDEwOlJlcG9zaXRvcnkxNDI0MTAzMzE=   \n",
       "2     MDEwOlJlcG9zaXRvcnkxNDI0MTAzMzE=   \n",
       "1     MDEwOlJlcG9zaXRvcnkxNDI0MTAzMzE=   \n",
       "0     MDEwOlJlcG9zaXRvcnkxNDI0MTAzMzE=   \n",
       "\n",
       "                                           author_email  \\\n",
       "6095                                    jdowling@kth.se   \n",
       "6094                                    jdowling@kth.se   \n",
       "6093                                      afzali@kth.se   \n",
       "6092                                   jdowling@sics.se   \n",
       "6091                            a.lorenteleal@gmail.com   \n",
       "...                                                 ...   \n",
       "4                            ormenisan.adrian@gmail.com   \n",
       "3     55157590+DhananjayMukhedkar@users.noreply.gith...   \n",
       "2                        robin.eric.andersson@gmail.com   \n",
       "1                            antonios@logicalclocks.com   \n",
       "0        8422705+moritzmeister@users.noreply.github.com   \n",
       "\n",
       "              committer_email          author_name                author_date  \\\n",
       "6095          jdowling@kth.se          Jim Dowling  2013-05-15T08:35:45+02:00   \n",
       "6094          jdowling@kth.se          Jim Dowling  2013-05-15T08:42:00+02:00   \n",
       "6093            afzali@kth.se     Hamidreza Afzali  2013-05-21T16:45:21+02:00   \n",
       "6092         jdowling@sics.se          Jim Dowling  2013-05-21T17:04:20+02:00   \n",
       "6091  a.lorenteleal@gmail.com              alorlea  2013-05-21T16:23:04+02:00   \n",
       "...                       ...                  ...                        ...   \n",
       "4          noreply@github.com       Alex Ormenisan  2023-01-19T16:05:29+02:00   \n",
       "3          noreply@github.com  Dhananjay Mukhedkar  2023-01-19T16:56:27+01:00   \n",
       "2          noreply@github.com      Robin Andersson  2023-01-19T16:57:39+01:00   \n",
       "1          noreply@github.com    Antonis Kouzoupis  2023-01-23T13:08:59+01:00   \n",
       "0          noreply@github.com       Moritz Meister  2023-01-24T14:11:10+01:00   \n",
       "\n",
       "        committer_name             committer_date  \\\n",
       "6095       Jim Dowling  2013-05-15T08:35:45+02:00   \n",
       "6094       Jim Dowling  2013-05-15T08:42:00+02:00   \n",
       "6093  Hamidreza Afzali  2013-05-21T16:45:21+02:00   \n",
       "6092       Jim Dowling  2013-05-21T17:04:20+02:00   \n",
       "6091           alorlea  2013-05-21T17:20:52+02:00   \n",
       "...                ...                        ...   \n",
       "4               GitHub  2023-01-19T16:05:29+02:00   \n",
       "3               GitHub  2023-01-19T16:56:27+01:00   \n",
       "2               GitHub  2023-01-19T16:57:39+01:00   \n",
       "1               GitHub  2023-01-23T13:08:59+01:00   \n",
       "0               GitHub  2023-01-24T14:11:10+01:00   \n",
       "\n",
       "                                                message  n_1_commits  \\\n",
       "6095                           Imported KTHFS Dashboard            1   \n",
       "6094         Removed script for creating jarmon symlink            1   \n",
       "6093  Upgraded to a newer version copied from kthfs ...            1   \n",
       "6092  Merge branch 'hamid_upgrade' of ghetto.sics.se...            1   \n",
       "6091                        added the async api support            1   \n",
       "...                                                 ...          ...   \n",
       "4     [HWORKS-372] explicit provenance missing commu...            1   \n",
       "3      [FSTORE-313] fix null check for feature group...            1   \n",
       "2     [FSTORE-388][APPEND] Move Agent role to correc...            1   \n",
       "1         [HWORKS-380] Close PEMParser resource (#1288)            1   \n",
       "0     [FSTORE-614] Auto Kafka Topic recreation needs...            1   \n",
       "\n",
       "      cumsum_commits          committer_date_dt  \n",
       "6095               1  2013-05-15 08:35:45+02:00  \n",
       "6094               2  2013-05-15 08:42:00+02:00  \n",
       "6093               3  2013-05-21 16:45:21+02:00  \n",
       "6092               4  2013-05-21 17:04:20+02:00  \n",
       "6091               5  2013-05-21 17:20:52+02:00  \n",
       "...              ...                        ...  \n",
       "4               6092  2023-01-19 16:05:29+02:00  \n",
       "3               6093  2023-01-19 16:56:27+01:00  \n",
       "2               6094  2023-01-19 16:57:39+01:00  \n",
       "1               6095  2023-01-23 13:08:59+01:00  \n",
       "0               6096  2023-01-24 14:11:10+01:00  \n",
       "\n",
       "[6096 rows x 12 columns]"
      ]
     },
     "execution_count": 7,
     "metadata": {},
     "output_type": "execute_result"
    }
   ],
   "source": [
    "# convert this to datetime2013-05-15T08:35:45+02:00\n",
    "(growth\n",
    "    >> filter(_.repository_id == _.repository_id.iloc[0])\n",
    "    >> mutate(\n",
    "        committer_date_dt = call(pd.to_datetime, _.committer_date)\n",
    "    )\n",
    "    # >> _.set_index(\"committer_date\")\n",
    "    # >> _.resample(rule='M', on='committer_date')['cumsum_commits']\n",
    "    # >> ggplot()\n",
    "    # + geom_line(aes('committer_date', 'cumsum_commits'))\n",
    ")#DateTimeIndex('committer_date_dt')#.resample(rule='M', on='committer_date')"
   ]
  },
  {
   "cell_type": "markdown",
   "metadata": {},
   "source": [
    "sliders for time, select per repo or per cluster (from labels?)"
   ]
  },
  {
   "cell_type": "markdown",
   "metadata": {},
   "source": [
    "# Q2: how many repos are people starring? what repos?\n",
    "\n",
    "customer segmentation analysis\n",
    "\n",
    "what types of users are contributing (other repos theyve starred or contributed to?) profiling mlops folx\n",
    "other ml frameworks\n"
   ]
  },
  {
   "cell_type": "code",
   "execution_count": 8,
   "metadata": {},
   "outputs": [
    {
     "name": "stdout",
     "output_type": "stream",
     "text": [
      "mean:  286.3524904214559 \n",
      "median:  3.0\n"
     ]
    }
   ],
   "source": [
    "print(\"mean: \", repo_df.stargazers_count.mean(), \\\n",
    "    \"\\nmedian: \", repo_df.stargazers_count.median())\n"
   ]
  },
  {
   "cell_type": "code",
   "execution_count": 22,
   "metadata": {},
   "outputs": [
    {
     "data": {
      "image/png": "[encoded data removed]",
      "text/plain": [
       "<Figure size 640x480 with 1 Axes>"
      ]
     },
     "metadata": {},
     "output_type": "display_data"
    },
    {
     "data": {
      "text/plain": [
       "<ggplot: (821612554)>"
      ]
     },
     "execution_count": 22,
     "metadata": {},
     "output_type": "execute_result"
    }
   ],
   "source": [
    "(\n",
    "    ggplot(repo_df, aes(x='stargazers_count'))\n",
    "    + geom_histogram(bins=10)\n",
    ")"
   ]
  },
  {
   "cell_type": "markdown",
   "metadata": {},
   "source": [
    "okay, how many >10?"
   ]
  },
  {
   "cell_type": "code",
   "execution_count": 23,
   "metadata": {},
   "outputs": [
    {
     "data": {
      "text/html": [
       "<div>\n",
       "<style scoped>\n",
       "    .dataframe tbody tr th:only-of-type {\n",
       "        vertical-align: middle;\n",
       "    }\n",
       "\n",
       "    .dataframe tbody tr th {\n",
       "        vertical-align: top;\n",
       "    }\n",
       "\n",
       "    .dataframe thead th {\n",
       "        text-align: right;\n",
       "    }\n",
       "</style>\n",
       "<table border=\"1\" class=\"dataframe\">\n",
       "  <thead>\n",
       "    <tr style=\"text-align: right;\">\n",
       "      <th></th>\n",
       "      <th>n</th>\n",
       "      <th>percent_less_10</th>\n",
       "    </tr>\n",
       "  </thead>\n",
       "  <tbody>\n",
       "    <tr>\n",
       "      <th>0</th>\n",
       "      <td>666</td>\n",
       "      <td>0.637931</td>\n",
       "    </tr>\n",
       "  </tbody>\n",
       "</table>\n",
       "</div>"
      ],
      "text/plain": [
       "     n  percent_less_10\n",
       "0  666         0.637931"
      ]
     },
     "execution_count": 23,
     "metadata": {},
     "output_type": "execute_result"
    }
   ],
   "source": [
    "(repo_df\n",
    "    >> filter(_.stargazers_count < 10)\n",
    "    >> count()\n",
    "    >> mutate(\n",
    "        percent_less_10 = _.n/len(repo_df)\n",
    "    )\n",
    ")"
   ]
  },
  {
   "cell_type": "markdown",
   "metadata": {},
   "source": [
    "## Stargazers\n"
   ]
  },
  {
   "cell_type": "code",
   "execution_count": 11,
   "metadata": {},
   "outputs": [
    {
     "data": {
      "text/plain": [
       "72664"
      ]
     },
     "execution_count": 11,
     "metadata": {},
     "output_type": "execute_result"
    }
   ],
   "source": [
    "len(star_df.user_id.unique())"
   ]
  },
  {
   "cell_type": "code",
   "execution_count": 19,
   "metadata": {},
   "outputs": [
    {
     "data": {
      "text/plain": [
       "5"
      ]
     },
     "execution_count": 19,
     "metadata": {},
     "output_type": "execute_result"
    }
   ],
   "source": [
    "len(star_df.repository_id.unique())"
   ]
  },
  {
   "cell_type": "code",
   "execution_count": 13,
   "metadata": {},
   "outputs": [
    {
     "data": {
      "image/png": "[encoded data removed]",
      "text/plain": [
       "<Figure size 640x480 with 1 Axes>"
      ]
     },
     "metadata": {},
     "output_type": "display_data"
    },
    {
     "data": {
      "text/plain": [
       "<ggplot: (821561167)>"
      ]
     },
     "execution_count": 13,
     "metadata": {},
     "output_type": "execute_result"
    }
   ],
   "source": [
    "count_authors = (\n",
    "    star_df[\"user_id\"]\n",
    "    .value_counts()\n",
    "    .value_counts()\n",
    "    .to_frame()\n",
    "    .reset_index()\n",
    "    .rename(columns={\"index\": \"n_repos_starred\", \"user_id\": \"user_count\"})\n",
    ")\n",
    "\n",
    "(ggplot(count_authors, aes(\"n_repos_starred\", \"user_count\")) + geom_point())\n"
   ]
  },
  {
   "cell_type": "markdown",
   "metadata": {},
   "source": [
    "people tend to only star one framework\n",
    "is it all the same framework?\n",
    "\n",
    "\n",
    "do the people who star more contribute more?"
   ]
  },
  {
   "cell_type": "code",
   "execution_count": 14,
   "metadata": {},
   "outputs": [],
   "source": [
    "_1 = (\n",
    "    star_df[\"user_id\"]\n",
    "    .value_counts()\n",
    "    .to_frame()\n",
    "    .reset_index()\n",
    "    .rename(columns={\"index\": \"user_id\", \"user_id\": \"n_repos_starred\"})\n",
    ")"
   ]
  },
  {
   "cell_type": "code",
   "execution_count": 15,
   "metadata": {},
   "outputs": [],
   "source": [
    "# just use for joins \n",
    "_2 = star_df >> full_join(_, _1, on=\"user_id\")\n",
    "_3 = repo_df[[\"full_name\", \"node_id\"]].rename(\n",
    "    columns={\"node_id\": \"repository_id\"}\n",
    ")"
   ]
  },
  {
   "cell_type": "code",
   "execution_count": 16,
   "metadata": {},
   "outputs": [
    {
     "data": {
      "text/html": [
       "<div>\n",
       "<style scoped>\n",
       "    .dataframe tbody tr th:only-of-type {\n",
       "        vertical-align: middle;\n",
       "    }\n",
       "\n",
       "    .dataframe tbody tr th {\n",
       "        vertical-align: top;\n",
       "    }\n",
       "\n",
       "    .dataframe thead th {\n",
       "        text-align: right;\n",
       "    }\n",
       "</style>\n",
       "<table border=\"1\" class=\"dataframe\">\n",
       "  <thead>\n",
       "    <tr style=\"text-align: right;\">\n",
       "      <th></th>\n",
       "      <th>repository_id</th>\n",
       "      <th>user_id</th>\n",
       "      <th>user_login</th>\n",
       "      <th>starred_at</th>\n",
       "      <th>n_repos_starred</th>\n",
       "      <th>full_name</th>\n",
       "    </tr>\n",
       "  </thead>\n",
       "  <tbody>\n",
       "    <tr>\n",
       "      <th>0</th>\n",
       "      <td>MDEwOlJlcG9zaXRvcnkxNTYxNTcwNTU=</td>\n",
       "      <td>MDQ6VXNlcjE0ODY3ODE5</td>\n",
       "      <td>raghuch</td>\n",
       "      <td>2018-11-21T11:50:55Z</td>\n",
       "      <td>1</td>\n",
       "      <td>GokuMohandas/Made-With-ML</td>\n",
       "    </tr>\n",
       "    <tr>\n",
       "      <th>1</th>\n",
       "      <td>MDEwOlJlcG9zaXRvcnkxNTYxNTcwNTU=</td>\n",
       "      <td>MDQ6VXNlcjEzODgxMDA=</td>\n",
       "      <td>vishalbelsare</td>\n",
       "      <td>2018-11-30T14:34:05Z</td>\n",
       "      <td>3</td>\n",
       "      <td>GokuMohandas/Made-With-ML</td>\n",
       "    </tr>\n",
       "    <tr>\n",
       "      <th>2</th>\n",
       "      <td>MDEwOlJlcG9zaXRvcnkyNDAzMTUwNDY=</td>\n",
       "      <td>MDQ6VXNlcjEzODgxMDA=</td>\n",
       "      <td>vishalbelsare</td>\n",
       "      <td>2020-06-15T08:32:23Z</td>\n",
       "      <td>3</td>\n",
       "      <td>jina-ai/jina</td>\n",
       "    </tr>\n",
       "    <tr>\n",
       "      <th>3</th>\n",
       "      <td>MDEwOlJlcG9zaXRvcnkxMzU2NzM0NTE=</td>\n",
       "      <td>MDQ6VXNlcjEzODgxMDA=</td>\n",
       "      <td>vishalbelsare</td>\n",
       "      <td>2021-07-20T16:35:12Z</td>\n",
       "      <td>3</td>\n",
       "      <td>microsoft/nni</td>\n",
       "    </tr>\n",
       "    <tr>\n",
       "      <th>4</th>\n",
       "      <td>MDEwOlJlcG9zaXRvcnkxNTYxNTcwNTU=</td>\n",
       "      <td>MDQ6VXNlcjM1NTM3MDE0</td>\n",
       "      <td>paulananth</td>\n",
       "      <td>2018-12-01T00:48:08Z</td>\n",
       "      <td>1</td>\n",
       "      <td>GokuMohandas/Made-With-ML</td>\n",
       "    </tr>\n",
       "    <tr>\n",
       "      <th>...</th>\n",
       "      <td>...</td>\n",
       "      <td>...</td>\n",
       "      <td>...</td>\n",
       "      <td>...</td>\n",
       "      <td>...</td>\n",
       "      <td>...</td>\n",
       "    </tr>\n",
       "    <tr>\n",
       "      <th>86581</th>\n",
       "      <td>MDEwOlJlcG9zaXRvcnkxOTI2NDA1Mjk=</td>\n",
       "      <td>MDQ6VXNlcjg3MTE2NTcw</td>\n",
       "      <td>hyunsungK</td>\n",
       "      <td>2023-01-25T11:17:15Z</td>\n",
       "      <td>1</td>\n",
       "      <td>heartexlabs/label-studio</td>\n",
       "    </tr>\n",
       "    <tr>\n",
       "      <th>86582</th>\n",
       "      <td>MDEwOlJlcG9zaXRvcnkxOTI2NDA1Mjk=</td>\n",
       "      <td>MDQ6VXNlcjcxNDM1OQ==</td>\n",
       "      <td>ourgit</td>\n",
       "      <td>2023-01-25T14:34:50Z</td>\n",
       "      <td>1</td>\n",
       "      <td>heartexlabs/label-studio</td>\n",
       "    </tr>\n",
       "    <tr>\n",
       "      <th>86583</th>\n",
       "      <td>MDEwOlJlcG9zaXRvcnkxOTI2NDA1Mjk=</td>\n",
       "      <td>MDQ6VXNlcjU4MzU5NjI1</td>\n",
       "      <td>alcompa</td>\n",
       "      <td>2023-01-25T16:02:09Z</td>\n",
       "      <td>1</td>\n",
       "      <td>heartexlabs/label-studio</td>\n",
       "    </tr>\n",
       "    <tr>\n",
       "      <th>86584</th>\n",
       "      <td>MDEwOlJlcG9zaXRvcnkxOTI2NDA1Mjk=</td>\n",
       "      <td>MDQ6VXNlcjExOTQ4MjUw</td>\n",
       "      <td>jugodu</td>\n",
       "      <td>2023-01-25T19:34:15Z</td>\n",
       "      <td>1</td>\n",
       "      <td>heartexlabs/label-studio</td>\n",
       "    </tr>\n",
       "    <tr>\n",
       "      <th>86585</th>\n",
       "      <td>MDEwOlJlcG9zaXRvcnkxOTI2NDA1Mjk=</td>\n",
       "      <td>MDQ6VXNlcjU0NzgzNjA5</td>\n",
       "      <td>zzhenyu23</td>\n",
       "      <td>2023-01-25T21:50:00Z</td>\n",
       "      <td>1</td>\n",
       "      <td>heartexlabs/label-studio</td>\n",
       "    </tr>\n",
       "  </tbody>\n",
       "</table>\n",
       "<p>86586 rows × 6 columns</p>\n",
       "</div>"
      ],
      "text/plain": [
       "                          repository_id               user_id     user_login  \\\n",
       "0      MDEwOlJlcG9zaXRvcnkxNTYxNTcwNTU=  MDQ6VXNlcjE0ODY3ODE5        raghuch   \n",
       "1      MDEwOlJlcG9zaXRvcnkxNTYxNTcwNTU=  MDQ6VXNlcjEzODgxMDA=  vishalbelsare   \n",
       "2      MDEwOlJlcG9zaXRvcnkyNDAzMTUwNDY=  MDQ6VXNlcjEzODgxMDA=  vishalbelsare   \n",
       "3      MDEwOlJlcG9zaXRvcnkxMzU2NzM0NTE=  MDQ6VXNlcjEzODgxMDA=  vishalbelsare   \n",
       "4      MDEwOlJlcG9zaXRvcnkxNTYxNTcwNTU=  MDQ6VXNlcjM1NTM3MDE0     paulananth   \n",
       "...                                 ...                   ...            ...   \n",
       "86581  MDEwOlJlcG9zaXRvcnkxOTI2NDA1Mjk=  MDQ6VXNlcjg3MTE2NTcw      hyunsungK   \n",
       "86582  MDEwOlJlcG9zaXRvcnkxOTI2NDA1Mjk=  MDQ6VXNlcjcxNDM1OQ==         ourgit   \n",
       "86583  MDEwOlJlcG9zaXRvcnkxOTI2NDA1Mjk=  MDQ6VXNlcjU4MzU5NjI1        alcompa   \n",
       "86584  MDEwOlJlcG9zaXRvcnkxOTI2NDA1Mjk=  MDQ6VXNlcjExOTQ4MjUw         jugodu   \n",
       "86585  MDEwOlJlcG9zaXRvcnkxOTI2NDA1Mjk=  MDQ6VXNlcjU0NzgzNjA5      zzhenyu23   \n",
       "\n",
       "                 starred_at  n_repos_starred                  full_name  \n",
       "0      2018-11-21T11:50:55Z                1  GokuMohandas/Made-With-ML  \n",
       "1      2018-11-30T14:34:05Z                3  GokuMohandas/Made-With-ML  \n",
       "2      2020-06-15T08:32:23Z                3               jina-ai/jina  \n",
       "3      2021-07-20T16:35:12Z                3              microsoft/nni  \n",
       "4      2018-12-01T00:48:08Z                1  GokuMohandas/Made-With-ML  \n",
       "...                     ...              ...                        ...  \n",
       "86581  2023-01-25T11:17:15Z                1   heartexlabs/label-studio  \n",
       "86582  2023-01-25T14:34:50Z                1   heartexlabs/label-studio  \n",
       "86583  2023-01-25T16:02:09Z                1   heartexlabs/label-studio  \n",
       "86584  2023-01-25T19:34:15Z                1   heartexlabs/label-studio  \n",
       "86585  2023-01-25T21:50:00Z                1   heartexlabs/label-studio  \n",
       "\n",
       "[86586 rows x 6 columns]"
      ]
     },
     "execution_count": 16,
     "metadata": {},
     "output_type": "execute_result"
    }
   ],
   "source": [
    "## users + how many repos they star + repo name\n",
    "stars_repo_name = _2 >> left_join(_, _3, on=\"repository_id\")\n",
    "stars_repo_name\n"
   ]
  },
  {
   "cell_type": "code",
   "execution_count": 17,
   "metadata": {},
   "outputs": [],
   "source": [
    "assert len(stars_repo_name.full_name.unique()) == len(star_df.repository_id.unique())"
   ]
  },
  {
   "cell_type": "markdown",
   "metadata": {},
   "source": [
    "## What are these tools doing?\n",
    "\n",
    "ie, monitoring, for certain model, etc\n",
    "\n",
    "from description? README? \n",
    "probably not commits\n"
   ]
  },
  {
   "cell_type": "markdown",
   "metadata": {},
   "source": [
    "languages from gh\n",
    "look at .gitattributes \n",
    "(in python world, dependency signals?)\n",
    "^^\n"
   ]
  },
  {
   "cell_type": "code",
   "execution_count": null,
   "metadata": {},
   "outputs": [],
   "source": []
  },
  {
   "cell_type": "markdown",
   "metadata": {},
   "source": [
    "## How active are these people?\n",
    "\n",
    "- watchers\n",
    "- users\n",
    "- bug reporters\n",
    "- PRs\n",
    "- core maintainers\n"
   ]
  },
  {
   "cell_type": "markdown",
   "metadata": {},
   "source": [
    "TODO: \n",
    "\n",
    "- [] pull more data for stargazers\n",
    "- [] answer more questions\n",
    "- [] start thinking about modeling\n",
    "- [] wireframe shiny UI (likely shiny for python)\n",
    "\n",
    "\n",
    "things to include for shiny:"
   ]
  },
  {
   "cell_type": "markdown",
   "metadata": {},
   "source": []
  }
 ],
 "metadata": {
  "kernelspec": {
   "display_name": "Python 3 (ipykernel)",
   "language": "python",
   "name": "python3"
  },
  "language_info": {
   "codemirror_mode": {
    "name": "ipython",
    "version": 3
   },
   "file_extension": ".py",
   "mimetype": "text/x-python",
   "name": "python",
   "nbconvert_exporter": "python",
   "pygments_lexer": "ipython3",
   "version": "3.9.11"
  },
  "vscode": {
   "interpreter": {
    "hash": "974018313955b4988b16ea215671657307c8736770f13695d4ded4c5899ccb5a"
   }
  }
 },
 "nbformat": 4,
 "nbformat_minor": 4
}
